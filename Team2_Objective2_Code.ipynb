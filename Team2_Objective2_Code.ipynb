{
 "cells": [
  {
   "cell_type": "markdown",
   "id": "af87d644",
   "metadata": {},
   "source": [
    "## Objective 2: To predict the probability of an incident becoming a managed incident to improve real time prioritization"
   ]
  },
  {
   "cell_type": "markdown",
   "id": "ded8c218",
   "metadata": {},
   "source": [
    "### Importing required libraries"
   ]
  },
  {
   "cell_type": "code",
   "execution_count": 57,
   "id": "6f059109",
   "metadata": {},
   "outputs": [],
   "source": [
    "import pandas as pd \n",
    "import numpy as np\n",
    "import matplotlib.pyplot as plt\n",
    "import seaborn as sns\n",
    "\n",
    "from collections import Counter\n",
    "from imblearn.under_sampling import RandomUnderSampler\n",
    "from imblearn.over_sampling import RandomOverSampler\n",
    "from sklearn.model_selection import train_test_split\n",
    "\n",
    "import pandas as pd\n",
    "import numpy as np\n",
    "import warnings\n",
    "warnings.simplefilter(action='ignore', category=FutureWarning)\n",
    "\n",
    "from sklearn.datasets import make_classification\n",
    "from imblearn.over_sampling import BorderlineSMOTE\n",
    "from matplotlib import pyplot\n",
    "from numpy import where\n",
    "\n",
    "from sklearn.feature_extraction.text import TfidfVectorizer \n",
    "from sklearn.feature_extraction.text import CountVectorizer\n",
    "\n",
    "from nltk.stem import PorterStemmer\n",
    "from nltk.tokenize import sent_tokenize, word_tokenize\n",
    "\n",
    "import nltk\n",
    "from nltk.corpus import stopwords\n",
    "\n",
    "import seaborn as sns #Importing seaborn for viusalizations\n",
    "from matplotlib import pyplot as plt"
   ]
  },
  {
   "cell_type": "markdown",
   "id": "72b5e105",
   "metadata": {},
   "source": [
    "### Importing Data Set\n",
    "#### uconn_dataset is the data provided for us"
   ]
  },
  {
   "cell_type": "code",
   "execution_count": 58,
   "id": "29d1657b",
   "metadata": {},
   "outputs": [],
   "source": [
    "df_text = pd.read_excel('uconn_dataset.xlsx')"
   ]
  },
  {
   "cell_type": "code",
   "execution_count": 59,
   "id": "c1dcf072",
   "metadata": {},
   "outputs": [
    {
     "data": {
      "text/plain": [
       "Index(['NUMBER', 'OPENED_AT', 'RESOLVED_AT', 'SYS_UPDATED_ON', 'STATE',\n",
       "       'MAJOR_INCIDENT_STATE', 'ACTIVE', 'PRIORITY', 'SEVERITY', 'IMPACT',\n",
       "       'U_SIM_ENGAGED', 'U_SIM_MANAGER_SYS_ID', 'LOCATION', 'PROMOTED_ON',\n",
       "       'PROMOTED_BY_SYS_ID', 'PROPOSED_ON', 'PROPOSED_BY_SYS_ID',\n",
       "       'CALLER_ID_SYS_ID', 'CONTACT_TYPE', 'U_INC_CAT', 'TAGS',\n",
       "       'SHORT_DESCRIPTION', 'DESCRIPTION', 'U_TEMPLATE_USED', 'CLOSE_CODE',\n",
       "       'U_RESOLUTION_CODE', 'U_TEAM_SPECIFIC_CODE', 'RESOLVED_BY_SYS_ID',\n",
       "       'CMDB_CI', 'BUSINESS_SERVICE', 'ASSIGNMENT_GROUP', 'ASSIGNED_TO_SYS_ID',\n",
       "       'CAUSED_BY', 'RFC', 'PARENT_INCIDENT', 'CHILD_INCIDENTS',\n",
       "       'REOPEN_COUNT', 'REOPENED_BY_SYS_ID', 'REOPENED_TIME',\n",
       "       'REASSIGNMENT_COUNT', 'U_OCC_ENGAGEMENT_METHOD'],\n",
       "      dtype='object')"
      ]
     },
     "execution_count": 59,
     "metadata": {},
     "output_type": "execute_result"
    }
   ],
   "source": [
    "df_text.columns #Analyzing the list of columns"
   ]
  },
  {
   "cell_type": "markdown",
   "id": "82918fa9",
   "metadata": {},
   "source": [
    "#### The following counts represents null values for each column"
   ]
  },
  {
   "cell_type": "code",
   "execution_count": 60,
   "id": "5e4f2788",
   "metadata": {},
   "outputs": [
    {
     "data": {
      "text/plain": [
       "NUMBER                          0\n",
       "OPENED_AT                       0\n",
       "RESOLVED_AT                 11101\n",
       "SYS_UPDATED_ON                  0\n",
       "STATE                           0\n",
       "MAJOR_INCIDENT_STATE       327601\n",
       "ACTIVE                          0\n",
       "PRIORITY                       43\n",
       "SEVERITY                        0\n",
       "IMPACT                         44\n",
       "U_SIM_ENGAGED                   0\n",
       "U_SIM_MANAGER_SYS_ID       327768\n",
       "LOCATION                   121538\n",
       "PROMOTED_ON                327782\n",
       "PROMOTED_BY_SYS_ID         327782\n",
       "PROPOSED_ON                327922\n",
       "PROPOSED_BY_SYS_ID         327924\n",
       "CALLER_ID_SYS_ID                0\n",
       "CONTACT_TYPE                 2127\n",
       "U_INC_CAT                      15\n",
       "TAGS                       326483\n",
       "SHORT_DESCRIPTION               2\n",
       "DESCRIPTION                    11\n",
       "U_TEMPLATE_USED            293639\n",
       "CLOSE_CODE                 197647\n",
       "U_RESOLUTION_CODE           10461\n",
       "U_TEAM_SPECIFIC_CODE        22583\n",
       "RESOLVED_BY_SYS_ID         121739\n",
       "CMDB_CI                      7337\n",
       "BUSINESS_SERVICE           155737\n",
       "ASSIGNMENT_GROUP                4\n",
       "ASSIGNED_TO_SYS_ID           1991\n",
       "CAUSED_BY                  326280\n",
       "RFC                        327873\n",
       "PARENT_INCIDENT            274240\n",
       "CHILD_INCIDENTS                 4\n",
       "REOPEN_COUNT                    4\n",
       "REOPENED_BY_SYS_ID         324924\n",
       "REOPENED_TIME              320967\n",
       "REASSIGNMENT_COUNT              4\n",
       "U_OCC_ENGAGEMENT_METHOD    327838\n",
       "dtype: int64"
      ]
     },
     "execution_count": 60,
     "metadata": {},
     "output_type": "execute_result"
    }
   ],
   "source": [
    "df_text.isna().sum()"
   ]
  },
  {
   "cell_type": "markdown",
   "id": "77a92690",
   "metadata": {},
   "source": [
    "#### combining text columns"
   ]
  },
  {
   "cell_type": "code",
   "execution_count": 61,
   "id": "a635141d",
   "metadata": {},
   "outputs": [],
   "source": [
    "df_text['concatenated_description']= df_text['SHORT_DESCRIPTION'] + df_text['DESCRIPTION']"
   ]
  },
  {
   "cell_type": "code",
   "execution_count": 62,
   "id": "02f522e1",
   "metadata": {},
   "outputs": [
    {
     "data": {
      "text/html": [
       "<div>\n",
       "<style scoped>\n",
       "    .dataframe tbody tr th:only-of-type {\n",
       "        vertical-align: middle;\n",
       "    }\n",
       "\n",
       "    .dataframe tbody tr th {\n",
       "        vertical-align: top;\n",
       "    }\n",
       "\n",
       "    .dataframe thead th {\n",
       "        text-align: right;\n",
       "    }\n",
       "</style>\n",
       "<table border=\"1\" class=\"dataframe\">\n",
       "  <thead>\n",
       "    <tr style=\"text-align: right;\">\n",
       "      <th></th>\n",
       "      <th>NUMBER</th>\n",
       "      <th>OPENED_AT</th>\n",
       "      <th>RESOLVED_AT</th>\n",
       "      <th>SYS_UPDATED_ON</th>\n",
       "      <th>STATE</th>\n",
       "      <th>MAJOR_INCIDENT_STATE</th>\n",
       "      <th>ACTIVE</th>\n",
       "      <th>PRIORITY</th>\n",
       "      <th>SEVERITY</th>\n",
       "      <th>IMPACT</th>\n",
       "      <th>...</th>\n",
       "      <th>CAUSED_BY</th>\n",
       "      <th>RFC</th>\n",
       "      <th>PARENT_INCIDENT</th>\n",
       "      <th>CHILD_INCIDENTS</th>\n",
       "      <th>REOPEN_COUNT</th>\n",
       "      <th>REOPENED_BY_SYS_ID</th>\n",
       "      <th>REOPENED_TIME</th>\n",
       "      <th>REASSIGNMENT_COUNT</th>\n",
       "      <th>U_OCC_ENGAGEMENT_METHOD</th>\n",
       "      <th>concatenated_description</th>\n",
       "    </tr>\n",
       "  </thead>\n",
       "  <tbody>\n",
       "    <tr>\n",
       "      <th>0</th>\n",
       "      <td>INC1319662</td>\n",
       "      <td>2021-05-31 10:12:19</td>\n",
       "      <td>2021-05-31 10:19:07</td>\n",
       "      <td>2021-06-14 11:00:10</td>\n",
       "      <td>Closed</td>\n",
       "      <td>NaN</td>\n",
       "      <td>False</td>\n",
       "      <td>3</td>\n",
       "      <td>3 - Low</td>\n",
       "      <td>3.0</td>\n",
       "      <td>...</td>\n",
       "      <td>NaN</td>\n",
       "      <td>NaN</td>\n",
       "      <td>NaN</td>\n",
       "      <td>0.0</td>\n",
       "      <td>0.0</td>\n",
       "      <td>NaN</td>\n",
       "      <td>NaT</td>\n",
       "      <td>0.0</td>\n",
       "      <td>NaN</td>\n",
       "      <td>MANAGEMENT AGENT LOSTDevice ciloracd2022 of ty...</td>\n",
       "    </tr>\n",
       "    <tr>\n",
       "      <th>1</th>\n",
       "      <td>INC1155199</td>\n",
       "      <td>2021-04-29 01:10:02</td>\n",
       "      <td>2021-04-29 01:13:07</td>\n",
       "      <td>2021-05-13 02:00:08</td>\n",
       "      <td>Closed</td>\n",
       "      <td>NaN</td>\n",
       "      <td>False</td>\n",
       "      <td>3</td>\n",
       "      <td>3 - Low</td>\n",
       "      <td>3.0</td>\n",
       "      <td>...</td>\n",
       "      <td>NaN</td>\n",
       "      <td>NaN</td>\n",
       "      <td>NaN</td>\n",
       "      <td>0.0</td>\n",
       "      <td>0.0</td>\n",
       "      <td>NaN</td>\n",
       "      <td>NaT</td>\n",
       "      <td>0.0</td>\n",
       "      <td>NaN</td>\n",
       "      <td>MANAGEMENT AGENT LOSTDevice cvwiisxp00180. of ...</td>\n",
       "    </tr>\n",
       "    <tr>\n",
       "      <th>2</th>\n",
       "      <td>INC0799260</td>\n",
       "      <td>2021-02-01 09:43:45</td>\n",
       "      <td>2021-02-01 09:52:07</td>\n",
       "      <td>2021-02-15 10:00:13</td>\n",
       "      <td>Closed</td>\n",
       "      <td>NaN</td>\n",
       "      <td>False</td>\n",
       "      <td>3</td>\n",
       "      <td>3 - Low</td>\n",
       "      <td>3.0</td>\n",
       "      <td>...</td>\n",
       "      <td>NaN</td>\n",
       "      <td>NaN</td>\n",
       "      <td>NaN</td>\n",
       "      <td>0.0</td>\n",
       "      <td>0.0</td>\n",
       "      <td>NaN</td>\n",
       "      <td>NaT</td>\n",
       "      <td>0.0</td>\n",
       "      <td>NaN</td>\n",
       "      <td>MANAGEMENT AGENT LOSTDevice &lt;DOMAIN_NAME&gt; of t...</td>\n",
       "    </tr>\n",
       "    <tr>\n",
       "      <th>3</th>\n",
       "      <td>INC0650904</td>\n",
       "      <td>2020-12-13 14:21:09</td>\n",
       "      <td>2020-12-14 12:34:26</td>\n",
       "      <td>2020-12-28 13:00:12</td>\n",
       "      <td>Closed</td>\n",
       "      <td>NaN</td>\n",
       "      <td>False</td>\n",
       "      <td>3</td>\n",
       "      <td>3 - Low</td>\n",
       "      <td>3.0</td>\n",
       "      <td>...</td>\n",
       "      <td>NaN</td>\n",
       "      <td>NaN</td>\n",
       "      <td>INC0651688</td>\n",
       "      <td>0.0</td>\n",
       "      <td>0.0</td>\n",
       "      <td>NaN</td>\n",
       "      <td>NaT</td>\n",
       "      <td>0.0</td>\n",
       "      <td>NaN</td>\n",
       "      <td>MANAGEMENT AGENT LOSTA Major alarm was generat...</td>\n",
       "    </tr>\n",
       "    <tr>\n",
       "      <th>4</th>\n",
       "      <td>INC1599254</td>\n",
       "      <td>2021-07-11 00:21:43</td>\n",
       "      <td>2021-07-11 02:56:16</td>\n",
       "      <td>2021-07-25 03:00:21</td>\n",
       "      <td>Closed</td>\n",
       "      <td>NaN</td>\n",
       "      <td>False</td>\n",
       "      <td>2</td>\n",
       "      <td>3 - Low</td>\n",
       "      <td>2.0</td>\n",
       "      <td>...</td>\n",
       "      <td>NaN</td>\n",
       "      <td>NaN</td>\n",
       "      <td>NaN</td>\n",
       "      <td>0.0</td>\n",
       "      <td>0.0</td>\n",
       "      <td>NaN</td>\n",
       "      <td>NaT</td>\n",
       "      <td>2.0</td>\n",
       "      <td>NaN</td>\n",
       "      <td>Synthetic failure -Specialty Script Gateway UR...</td>\n",
       "    </tr>\n",
       "  </tbody>\n",
       "</table>\n",
       "<p>5 rows × 42 columns</p>\n",
       "</div>"
      ],
      "text/plain": [
       "       NUMBER           OPENED_AT         RESOLVED_AT      SYS_UPDATED_ON  \\\n",
       "0  INC1319662 2021-05-31 10:12:19 2021-05-31 10:19:07 2021-06-14 11:00:10   \n",
       "1  INC1155199 2021-04-29 01:10:02 2021-04-29 01:13:07 2021-05-13 02:00:08   \n",
       "2  INC0799260 2021-02-01 09:43:45 2021-02-01 09:52:07 2021-02-15 10:00:13   \n",
       "3  INC0650904 2020-12-13 14:21:09 2020-12-14 12:34:26 2020-12-28 13:00:12   \n",
       "4  INC1599254 2021-07-11 00:21:43 2021-07-11 02:56:16 2021-07-25 03:00:21   \n",
       "\n",
       "    STATE MAJOR_INCIDENT_STATE  ACTIVE PRIORITY SEVERITY  IMPACT  ...  \\\n",
       "0  Closed                  NaN   False        3  3 - Low     3.0  ...   \n",
       "1  Closed                  NaN   False        3  3 - Low     3.0  ...   \n",
       "2  Closed                  NaN   False        3  3 - Low     3.0  ...   \n",
       "3  Closed                  NaN   False        3  3 - Low     3.0  ...   \n",
       "4  Closed                  NaN   False        2  3 - Low     2.0  ...   \n",
       "\n",
       "   CAUSED_BY  RFC PARENT_INCIDENT CHILD_INCIDENTS REOPEN_COUNT  \\\n",
       "0        NaN  NaN             NaN             0.0          0.0   \n",
       "1        NaN  NaN             NaN             0.0          0.0   \n",
       "2        NaN  NaN             NaN             0.0          0.0   \n",
       "3        NaN  NaN      INC0651688             0.0          0.0   \n",
       "4        NaN  NaN             NaN             0.0          0.0   \n",
       "\n",
       "  REOPENED_BY_SYS_ID REOPENED_TIME REASSIGNMENT_COUNT U_OCC_ENGAGEMENT_METHOD  \\\n",
       "0                NaN           NaT                0.0                     NaN   \n",
       "1                NaN           NaT                0.0                     NaN   \n",
       "2                NaN           NaT                0.0                     NaN   \n",
       "3                NaN           NaT                0.0                     NaN   \n",
       "4                NaN           NaT                2.0                     NaN   \n",
       "\n",
       "                            concatenated_description  \n",
       "0  MANAGEMENT AGENT LOSTDevice ciloracd2022 of ty...  \n",
       "1  MANAGEMENT AGENT LOSTDevice cvwiisxp00180. of ...  \n",
       "2  MANAGEMENT AGENT LOSTDevice <DOMAIN_NAME> of t...  \n",
       "3  MANAGEMENT AGENT LOSTA Major alarm was generat...  \n",
       "4  Synthetic failure -Specialty Script Gateway UR...  \n",
       "\n",
       "[5 rows x 42 columns]"
      ]
     },
     "execution_count": 62,
     "metadata": {},
     "output_type": "execute_result"
    }
   ],
   "source": [
    "df_text.head()"
   ]
  },
  {
   "cell_type": "code",
   "execution_count": 63,
   "id": "4b833bfd",
   "metadata": {},
   "outputs": [
    {
     "data": {
      "image/png": "[encoded data removed]",
      "text/plain": [
       "<Figure size 1440x540 with 1 Axes>"
      ]
     },
     "metadata": {
      "needs_background": "light"
     },
     "output_type": "display_data"
    }
   ],
   "source": [
    "plt.figure(figsize=(20,7.5)) #Configuring plot size\n",
    "p10 = sns.countplot(data=df_text,x='PRIORITY', order=df_text.PRIORITY.value_counts().iloc[:15].index) #count plot using sea born module\n",
    "p10.set_xticklabels(p10.get_xticklabels(),rotation = 90) #Rotating x-lables by 90 degrees\n",
    "p10.set_title(\"Count of Incidents for each Priority\", fontsize=20) #Setting title for the graph\n",
    "plt.show() #Displaying plot"
   ]
  },
  {
   "cell_type": "code",
   "execution_count": 64,
   "id": "ae3f4918",
   "metadata": {},
   "outputs": [],
   "source": [
    "df_text['Difference'] = (df_text['RESOLVED_AT'] - df_text['OPENED_AT']).astype('timedelta64[m]')"
   ]
  },
  {
   "cell_type": "markdown",
   "id": "8aa35aa2",
   "metadata": {},
   "source": [
    "#### Outlier Analysis based on Difference column (Resolution Time)"
   ]
  },
  {
   "cell_type": "code",
   "execution_count": 65,
   "id": "876ca515",
   "metadata": {},
   "outputs": [
    {
     "data": {
      "text/plain": [
       "<AxesSubplot:ylabel='Difference'>"
      ]
     },
     "execution_count": 65,
     "metadata": {},
     "output_type": "execute_result"
    },
    {
     "data": {
      "image/png": "[encoded data removed]",
      "text/plain": [
       "<Figure size 1584x1440 with 1 Axes>"
      ]
     },
     "metadata": {
      "needs_background": "light"
     },
     "output_type": "display_data"
    }
   ],
   "source": [
    "fig, axes = plt.subplots(1,1, figsize=(22,20)) #Preparing 8 sub plots with size 22, 20 \n",
    "\n",
    "sns.boxplot(y=df_text[\"Difference\"])"
   ]
  },
  {
   "cell_type": "code",
   "execution_count": 47,
   "id": "17d4143b",
   "metadata": {},
   "outputs": [
    {
     "data": {
      "text/plain": [
       "NUMBER                           0\n",
       "OPENED_AT                        0\n",
       "RESOLVED_AT                  11101\n",
       "SYS_UPDATED_ON                   0\n",
       "STATE                            0\n",
       "MAJOR_INCIDENT_STATE        327601\n",
       "ACTIVE                           0\n",
       "PRIORITY                        43\n",
       "SEVERITY                         0\n",
       "IMPACT                          44\n",
       "U_SIM_ENGAGED                    0\n",
       "U_SIM_MANAGER_SYS_ID        327768\n",
       "LOCATION                    121538\n",
       "PROMOTED_ON                 327782\n",
       "PROMOTED_BY_SYS_ID          327782\n",
       "PROPOSED_ON                 327922\n",
       "PROPOSED_BY_SYS_ID          327924\n",
       "CALLER_ID_SYS_ID                 0\n",
       "CONTACT_TYPE                  2127\n",
       "U_INC_CAT                       15\n",
       "TAGS                        326483\n",
       "SHORT_DESCRIPTION                2\n",
       "DESCRIPTION                     11\n",
       "U_TEMPLATE_USED             293639\n",
       "CLOSE_CODE                  197647\n",
       "U_RESOLUTION_CODE            10461\n",
       "U_TEAM_SPECIFIC_CODE         22583\n",
       "RESOLVED_BY_SYS_ID          121739\n",
       "CMDB_CI                       7337\n",
       "BUSINESS_SERVICE            155737\n",
       "ASSIGNMENT_GROUP                 4\n",
       "ASSIGNED_TO_SYS_ID            1991\n",
       "CAUSED_BY                   326280\n",
       "RFC                         327873\n",
       "PARENT_INCIDENT             274240\n",
       "CHILD_INCIDENTS                  4\n",
       "REOPEN_COUNT                     4\n",
       "REOPENED_BY_SYS_ID          324924\n",
       "REOPENED_TIME               320967\n",
       "REASSIGNMENT_COUNT               4\n",
       "U_OCC_ENGAGEMENT_METHOD     327838\n",
       "concatenated_description        13\n",
       "Difference                   11101\n",
       "dtype: int64"
      ]
     },
     "execution_count": 47,
     "metadata": {},
     "output_type": "execute_result"
    }
   ],
   "source": [
    "df_text.isnull().sum() #Checking Null values"
   ]
  },
  {
   "cell_type": "markdown",
   "id": "4a3b4aaf",
   "metadata": {},
   "source": [
    "## For detailed Data Exploration of Objective 2, Please refer to Objective 1 code file."
   ]
  },
  {
   "cell_type": "markdown",
   "id": "b613333b",
   "metadata": {},
   "source": [
    "#### filtering priority column 2,3,4,M1,M2,M3 and ignoring blanks"
   ]
  },
  {
   "cell_type": "code",
   "execution_count": 48,
   "id": "98a7aab2",
   "metadata": {},
   "outputs": [],
   "source": [
    "df_1 = df_text[df_text['PRIORITY'].isin(['M3','M2','M1',2,3,4])]"
   ]
  },
  {
   "cell_type": "code",
   "execution_count": 49,
   "id": "8a20a3d9",
   "metadata": {},
   "outputs": [
    {
     "data": {
      "text/plain": [
       "array([3, 2, 4, 'M2', 'M3', 'M1'], dtype=object)"
      ]
     },
     "execution_count": 49,
     "metadata": {},
     "output_type": "execute_result"
    }
   ],
   "source": [
    "df_1['PRIORITY'].unique()"
   ]
  },
  {
   "cell_type": "code",
   "execution_count": 50,
   "id": "5d26d370",
   "metadata": {},
   "outputs": [
    {
     "data": {
      "image/png": "[encoded data removed]",
      "text/plain": [
       "<Figure size 1440x540 with 1 Axes>"
      ]
     },
     "metadata": {
      "needs_background": "light"
     },
     "output_type": "display_data"
    }
   ],
   "source": [
    "plt.figure(figsize=(20,7.5)) #Configuring plot size\n",
    "p10 = sns.countplot(data=df,x='PRIORITY', order=df.PRIORITY.value_counts().iloc[:15].index) #count plot using sea born module\n",
    "p10.set_xticklabels(p10.get_xticklabels(),rotation = 90) #Rotating x-lables by 90 degrees\n",
    "p10.set_title(\"Count of Incidents for each Priority\", fontsize=20) #Setting title for the graph\n",
    "plt.show() #Displaying plot"
   ]
  },
  {
   "cell_type": "markdown",
   "id": "9cb7f165",
   "metadata": {},
   "source": [
    "#### Considering all rows for M3 and only nulls and accepted rows for M1, M2 priorities"
   ]
  },
  {
   "cell_type": "markdown",
   "id": "76e41e25",
   "metadata": {},
   "source": [
    "#### Priorities with 2,3,4 values are grouped as 0 and M1, M2,M3 as 1. Converted the target variable PRIORITY as binary"
   ]
  },
  {
   "cell_type": "code",
   "execution_count": 51,
   "id": "18fabf2c",
   "metadata": {},
   "outputs": [],
   "source": [
    "df_f = df_1.replace({'PRIORITY':{2:0,3:0,4:0,'M3':1}})\n",
    "df_final = df_f[~(df_f['PRIORITY'].isin(['M1','M2'])& df_f['MAJOR_INCIDENT_STATE'].isin(['Rejected', 'Canceled']))]\n",
    "df_filtered = df_final.replace({'PRIORITY':{'M1':1,'M2':1}})"
   ]
  },
  {
   "cell_type": "markdown",
   "id": "3ad65889",
   "metadata": {},
   "source": [
    "#### Dropping Insignificant Columns"
   ]
  },
  {
   "cell_type": "code",
   "execution_count": 52,
   "id": "2d6f3ca0",
   "metadata": {},
   "outputs": [],
   "source": [
    "#Initial analysis\n",
    "#Initial analysis\n",
    "df = df_filtered.drop([ \n",
    "         'SEVERITY', \n",
    "       'U_SIM_ENGAGED',\n",
    "         'U_SIM_MANAGER_SYS_ID',  \n",
    "         'PROMOTED_ON',\n",
    "       'PROMOTED_BY_SYS_ID', \\\n",
    "         'PROPOSED_BY_SYS_ID',\n",
    "       'CALLER_ID_SYS_ID', \n",
    "         'TAGS',\n",
    "        'U_TEMPLATE_USED',\n",
    "         'CLOSE_CODE',\n",
    "       'U_RESOLUTION_CODE', \n",
    "         'U_TEAM_SPECIFIC_CODE',\n",
    "         'RESOLVED_BY_SYS_ID',\n",
    "       'CMDB_CI', \n",
    "         'ASSIGNED_TO_SYS_ID',\n",
    "       'CAUSED_BY', \n",
    "         'RFC', \n",
    "         'REOPENED_BY_SYS_ID', \n",
    "         'REOPENED_TIME',\n",
    "         'U_OCC_ENGAGEMENT_METHOD', 'OPENED_AT', 'RESOLVED_AT', 'SYS_UPDATED_ON', 'STATE',\n",
    "       'MAJOR_INCIDENT_STATE', 'ACTIVE', 'IMPACT',\n",
    "         'LOCATION', 'CONTACT_TYPE', 'U_INC_CAT',\n",
    "       'SHORT_DESCRIPTION', 'DESCRIPTION',\n",
    "       'BUSINESS_SERVICE', 'ASSIGNMENT_GROUP','CHILD_INCIDENTS',\n",
    "       'REOPEN_COUNT',\n",
    "       'REASSIGNMENT_COUNT','PROPOSED_ON', 'PARENT_INCIDENT'],  axis = 1)"
   ]
  },
  {
   "cell_type": "code",
   "execution_count": 53,
   "id": "990046ac",
   "metadata": {},
   "outputs": [
    {
     "data": {
      "text/plain": [
       "Index(['NUMBER', 'PRIORITY', 'concatenated_description', 'Difference'], dtype='object')"
      ]
     },
     "execution_count": 53,
     "metadata": {},
     "output_type": "execute_result"
    }
   ],
   "source": [
    "df.columns"
   ]
  },
  {
   "cell_type": "markdown",
   "id": "41238d36",
   "metadata": {},
   "source": [
    "#### Drop Columns which has null values"
   ]
  },
  {
   "cell_type": "code",
   "execution_count": 54,
   "id": "cf06570b",
   "metadata": {},
   "outputs": [
    {
     "name": "stdout",
     "output_type": "stream",
     "text": [
      "(328180, 4)\n"
     ]
    },
    {
     "data": {
      "text/html": [
       "<div>\n",
       "<style scoped>\n",
       "    .dataframe tbody tr th:only-of-type {\n",
       "        vertical-align: middle;\n",
       "    }\n",
       "\n",
       "    .dataframe tbody tr th {\n",
       "        vertical-align: top;\n",
       "    }\n",
       "\n",
       "    .dataframe thead th {\n",
       "        text-align: right;\n",
       "    }\n",
       "</style>\n",
       "<table border=\"1\" class=\"dataframe\">\n",
       "  <thead>\n",
       "    <tr style=\"text-align: right;\">\n",
       "      <th></th>\n",
       "      <th>NUMBER</th>\n",
       "      <th>PRIORITY</th>\n",
       "      <th>concatenated_description</th>\n",
       "      <th>Difference</th>\n",
       "    </tr>\n",
       "  </thead>\n",
       "  <tbody>\n",
       "    <tr>\n",
       "      <th>0</th>\n",
       "      <td>INC1319662</td>\n",
       "      <td>0</td>\n",
       "      <td>MANAGEMENT AGENT LOSTDevice ciloracd2022 of ty...</td>\n",
       "      <td>6.0</td>\n",
       "    </tr>\n",
       "    <tr>\n",
       "      <th>1</th>\n",
       "      <td>INC1155199</td>\n",
       "      <td>0</td>\n",
       "      <td>MANAGEMENT AGENT LOSTDevice cvwiisxp00180. of ...</td>\n",
       "      <td>3.0</td>\n",
       "    </tr>\n",
       "    <tr>\n",
       "      <th>2</th>\n",
       "      <td>INC0799260</td>\n",
       "      <td>0</td>\n",
       "      <td>MANAGEMENT AGENT LOSTDevice &lt;DOMAIN_NAME&gt; of t...</td>\n",
       "      <td>8.0</td>\n",
       "    </tr>\n",
       "    <tr>\n",
       "      <th>3</th>\n",
       "      <td>INC0650904</td>\n",
       "      <td>0</td>\n",
       "      <td>MANAGEMENT AGENT LOSTA Major alarm was generat...</td>\n",
       "      <td>1333.0</td>\n",
       "    </tr>\n",
       "    <tr>\n",
       "      <th>4</th>\n",
       "      <td>INC1599254</td>\n",
       "      <td>0</td>\n",
       "      <td>Synthetic failure -Specialty Script Gateway UR...</td>\n",
       "      <td>154.0</td>\n",
       "    </tr>\n",
       "  </tbody>\n",
       "</table>\n",
       "</div>"
      ],
      "text/plain": [
       "       NUMBER  PRIORITY                           concatenated_description  \\\n",
       "0  INC1319662         0  MANAGEMENT AGENT LOSTDevice ciloracd2022 of ty...   \n",
       "1  INC1155199         0  MANAGEMENT AGENT LOSTDevice cvwiisxp00180. of ...   \n",
       "2  INC0799260         0  MANAGEMENT AGENT LOSTDevice <DOMAIN_NAME> of t...   \n",
       "3  INC0650904         0  MANAGEMENT AGENT LOSTA Major alarm was generat...   \n",
       "4  INC1599254         0  Synthetic failure -Specialty Script Gateway UR...   \n",
       "\n",
       "   Difference  \n",
       "0         6.0  \n",
       "1         3.0  \n",
       "2         8.0  \n",
       "3      1333.0  \n",
       "4       154.0  "
      ]
     },
     "execution_count": 54,
     "metadata": {},
     "output_type": "execute_result"
    }
   ],
   "source": [
    "df = df.dropna(subset=['concatenated_description'])\n",
    "df = df.dropna(subset=['PRIORITY'])\n",
    "df = df.dropna(subset=['NUMBER'])\n",
    "print(df.shape) # now we have 48K rows\n",
    "df.head()"
   ]
  },
  {
   "cell_type": "code",
   "execution_count": 17,
   "id": "5c333d44",
   "metadata": {},
   "outputs": [
    {
     "data": {
      "text/plain": [
       "(328180, 3)"
      ]
     },
     "execution_count": 17,
     "metadata": {},
     "output_type": "execute_result"
    }
   ],
   "source": [
    "df.shape"
   ]
  },
  {
   "cell_type": "markdown",
   "id": "358227bd",
   "metadata": {},
   "source": [
    "#### Defining X and Y variables"
   ]
  },
  {
   "cell_type": "code",
   "execution_count": 56,
   "id": "fd4fb506",
   "metadata": {},
   "outputs": [
    {
     "data": {
      "text/html": [
       "<div>\n",
       "<style scoped>\n",
       "    .dataframe tbody tr th:only-of-type {\n",
       "        vertical-align: middle;\n",
       "    }\n",
       "\n",
       "    .dataframe tbody tr th {\n",
       "        vertical-align: top;\n",
       "    }\n",
       "\n",
       "    .dataframe thead th {\n",
       "        text-align: right;\n",
       "    }\n",
       "</style>\n",
       "<table border=\"1\" class=\"dataframe\">\n",
       "  <thead>\n",
       "    <tr style=\"text-align: right;\">\n",
       "      <th></th>\n",
       "      <th>PRIORITY</th>\n",
       "      <th>concatenated_description</th>\n",
       "      <th>NUMBER</th>\n",
       "    </tr>\n",
       "  </thead>\n",
       "  <tbody>\n",
       "    <tr>\n",
       "      <th>0</th>\n",
       "      <td>0</td>\n",
       "      <td>MANAGEMENT AGENT LOSTDevice ciloracd2022 of ty...</td>\n",
       "      <td>INC1319662</td>\n",
       "    </tr>\n",
       "    <tr>\n",
       "      <th>1</th>\n",
       "      <td>0</td>\n",
       "      <td>MANAGEMENT AGENT LOSTDevice cvwiisxp00180. of ...</td>\n",
       "      <td>INC1155199</td>\n",
       "    </tr>\n",
       "    <tr>\n",
       "      <th>2</th>\n",
       "      <td>0</td>\n",
       "      <td>MANAGEMENT AGENT LOSTDevice &lt;DOMAIN_NAME&gt; of t...</td>\n",
       "      <td>INC0799260</td>\n",
       "    </tr>\n",
       "    <tr>\n",
       "      <th>3</th>\n",
       "      <td>0</td>\n",
       "      <td>MANAGEMENT AGENT LOSTA Major alarm was generat...</td>\n",
       "      <td>INC0650904</td>\n",
       "    </tr>\n",
       "    <tr>\n",
       "      <th>4</th>\n",
       "      <td>0</td>\n",
       "      <td>Synthetic failure -Specialty Script Gateway UR...</td>\n",
       "      <td>INC1599254</td>\n",
       "    </tr>\n",
       "    <tr>\n",
       "      <th>...</th>\n",
       "      <td>...</td>\n",
       "      <td>...</td>\n",
       "      <td>...</td>\n",
       "    </tr>\n",
       "    <tr>\n",
       "      <th>328235</th>\n",
       "      <td>0</td>\n",
       "      <td>Used disk space on / percentage = 90%  on Host...</td>\n",
       "      <td>INC1269292</td>\n",
       "    </tr>\n",
       "    <tr>\n",
       "      <th>328236</th>\n",
       "      <td>0</td>\n",
       "      <td>MANAGEMENT AGENT LOSTA Major alarm was generat...</td>\n",
       "      <td>INC0173447</td>\n",
       "    </tr>\n",
       "    <tr>\n",
       "      <th>328237</th>\n",
       "      <td>0</td>\n",
       "      <td>MANAGEMENT AGENT LOSTDevice QNJ1VBRP01.qualcar...</td>\n",
       "      <td>INC1286891</td>\n",
       "    </tr>\n",
       "    <tr>\n",
       "      <th>328238</th>\n",
       "      <td>0</td>\n",
       "      <td>Filenet id deletion greater that 365 daysPleas...</td>\n",
       "      <td>INC1149620</td>\n",
       "    </tr>\n",
       "    <tr>\n",
       "      <th>328239</th>\n",
       "      <td>0</td>\n",
       "      <td>VI Alarm - SL2 - Storage Link Error/wdcnapc01n...</td>\n",
       "      <td>INC0407838</td>\n",
       "    </tr>\n",
       "  </tbody>\n",
       "</table>\n",
       "<p>328180 rows × 3 columns</p>\n",
       "</div>"
      ],
      "text/plain": [
       "        PRIORITY                           concatenated_description  \\\n",
       "0              0  MANAGEMENT AGENT LOSTDevice ciloracd2022 of ty...   \n",
       "1              0  MANAGEMENT AGENT LOSTDevice cvwiisxp00180. of ...   \n",
       "2              0  MANAGEMENT AGENT LOSTDevice <DOMAIN_NAME> of t...   \n",
       "3              0  MANAGEMENT AGENT LOSTA Major alarm was generat...   \n",
       "4              0  Synthetic failure -Specialty Script Gateway UR...   \n",
       "...          ...                                                ...   \n",
       "328235         0  Used disk space on / percentage = 90%  on Host...   \n",
       "328236         0  MANAGEMENT AGENT LOSTA Major alarm was generat...   \n",
       "328237         0  MANAGEMENT AGENT LOSTDevice QNJ1VBRP01.qualcar...   \n",
       "328238         0  Filenet id deletion greater that 365 daysPleas...   \n",
       "328239         0  VI Alarm - SL2 - Storage Link Error/wdcnapc01n...   \n",
       "\n",
       "            NUMBER  \n",
       "0       INC1319662  \n",
       "1       INC1155199  \n",
       "2       INC0799260  \n",
       "3       INC0650904  \n",
       "4       INC1599254  \n",
       "...            ...  \n",
       "328235  INC1269292  \n",
       "328236  INC0173447  \n",
       "328237  INC1286891  \n",
       "328238  INC1149620  \n",
       "328239  INC0407838  \n",
       "\n",
       "[328180 rows x 3 columns]"
      ]
     },
     "execution_count": 56,
     "metadata": {},
     "output_type": "execute_result"
    }
   ],
   "source": [
    "df_text = df[['PRIORITY', 'concatenated_description','NUMBER']] #Y, X\n",
    "df_text"
   ]
  },
  {
   "cell_type": "markdown",
   "id": "a20840b2",
   "metadata": {},
   "source": [
    "#### Reset_index function reset the index from 0 to n-1"
   ]
  },
  {
   "cell_type": "code",
   "execution_count": 21,
   "id": "b064998d",
   "metadata": {},
   "outputs": [
    {
     "data": {
      "text/html": [
       "<div>\n",
       "<style scoped>\n",
       "    .dataframe tbody tr th:only-of-type {\n",
       "        vertical-align: middle;\n",
       "    }\n",
       "\n",
       "    .dataframe tbody tr th {\n",
       "        vertical-align: top;\n",
       "    }\n",
       "\n",
       "    .dataframe thead th {\n",
       "        text-align: right;\n",
       "    }\n",
       "</style>\n",
       "<table border=\"1\" class=\"dataframe\">\n",
       "  <thead>\n",
       "    <tr style=\"text-align: right;\">\n",
       "      <th></th>\n",
       "      <th>PRIORITY</th>\n",
       "      <th>concatenated_description</th>\n",
       "      <th>NUMBER</th>\n",
       "    </tr>\n",
       "  </thead>\n",
       "  <tbody>\n",
       "    <tr>\n",
       "      <th>0</th>\n",
       "      <td>0</td>\n",
       "      <td>MANAGEMENT AGENT LOSTDevice ciloracd2022 of ty...</td>\n",
       "      <td>INC1319662</td>\n",
       "    </tr>\n",
       "    <tr>\n",
       "      <th>1</th>\n",
       "      <td>0</td>\n",
       "      <td>MANAGEMENT AGENT LOSTDevice cvwiisxp00180. of ...</td>\n",
       "      <td>INC1155199</td>\n",
       "    </tr>\n",
       "    <tr>\n",
       "      <th>2</th>\n",
       "      <td>0</td>\n",
       "      <td>MANAGEMENT AGENT LOSTDevice &lt;DOMAIN_NAME&gt; of t...</td>\n",
       "      <td>INC0799260</td>\n",
       "    </tr>\n",
       "    <tr>\n",
       "      <th>3</th>\n",
       "      <td>0</td>\n",
       "      <td>MANAGEMENT AGENT LOSTA Major alarm was generat...</td>\n",
       "      <td>INC0650904</td>\n",
       "    </tr>\n",
       "    <tr>\n",
       "      <th>4</th>\n",
       "      <td>0</td>\n",
       "      <td>Synthetic failure -Specialty Script Gateway UR...</td>\n",
       "      <td>INC1599254</td>\n",
       "    </tr>\n",
       "    <tr>\n",
       "      <th>...</th>\n",
       "      <td>...</td>\n",
       "      <td>...</td>\n",
       "      <td>...</td>\n",
       "    </tr>\n",
       "    <tr>\n",
       "      <th>328175</th>\n",
       "      <td>0</td>\n",
       "      <td>Used disk space on / percentage = 90%  on Host...</td>\n",
       "      <td>INC1269292</td>\n",
       "    </tr>\n",
       "    <tr>\n",
       "      <th>328176</th>\n",
       "      <td>0</td>\n",
       "      <td>MANAGEMENT AGENT LOSTA Major alarm was generat...</td>\n",
       "      <td>INC0173447</td>\n",
       "    </tr>\n",
       "    <tr>\n",
       "      <th>328177</th>\n",
       "      <td>0</td>\n",
       "      <td>MANAGEMENT AGENT LOSTDevice QNJ1VBRP01.qualcar...</td>\n",
       "      <td>INC1286891</td>\n",
       "    </tr>\n",
       "    <tr>\n",
       "      <th>328178</th>\n",
       "      <td>0</td>\n",
       "      <td>Filenet id deletion greater that 365 daysPleas...</td>\n",
       "      <td>INC1149620</td>\n",
       "    </tr>\n",
       "    <tr>\n",
       "      <th>328179</th>\n",
       "      <td>0</td>\n",
       "      <td>VI Alarm - SL2 - Storage Link Error/wdcnapc01n...</td>\n",
       "      <td>INC0407838</td>\n",
       "    </tr>\n",
       "  </tbody>\n",
       "</table>\n",
       "<p>328180 rows × 3 columns</p>\n",
       "</div>"
      ],
      "text/plain": [
       "        PRIORITY                           concatenated_description  \\\n",
       "0              0  MANAGEMENT AGENT LOSTDevice ciloracd2022 of ty...   \n",
       "1              0  MANAGEMENT AGENT LOSTDevice cvwiisxp00180. of ...   \n",
       "2              0  MANAGEMENT AGENT LOSTDevice <DOMAIN_NAME> of t...   \n",
       "3              0  MANAGEMENT AGENT LOSTA Major alarm was generat...   \n",
       "4              0  Synthetic failure -Specialty Script Gateway UR...   \n",
       "...          ...                                                ...   \n",
       "328175         0  Used disk space on / percentage = 90%  on Host...   \n",
       "328176         0  MANAGEMENT AGENT LOSTA Major alarm was generat...   \n",
       "328177         0  MANAGEMENT AGENT LOSTDevice QNJ1VBRP01.qualcar...   \n",
       "328178         0  Filenet id deletion greater that 365 daysPleas...   \n",
       "328179         0  VI Alarm - SL2 - Storage Link Error/wdcnapc01n...   \n",
       "\n",
       "            NUMBER  \n",
       "0       INC1319662  \n",
       "1       INC1155199  \n",
       "2       INC0799260  \n",
       "3       INC0650904  \n",
       "4       INC1599254  \n",
       "...            ...  \n",
       "328175  INC1269292  \n",
       "328176  INC0173447  \n",
       "328177  INC1286891  \n",
       "328178  INC1149620  \n",
       "328179  INC0407838  \n",
       "\n",
       "[328180 rows x 3 columns]"
      ]
     },
     "execution_count": 21,
     "metadata": {},
     "output_type": "execute_result"
    }
   ],
   "source": [
    "df_text.reset_index(inplace=True, drop=True) #dropped exsisting collumn\n",
    "df_text"
   ]
  },
  {
   "cell_type": "markdown",
   "id": "18a9dd00",
   "metadata": {},
   "source": [
    "#### Inorder maintain the consistency, we converted entire concatenated description to lower case"
   ]
  },
  {
   "cell_type": "code",
   "execution_count": 22,
   "id": "c4124c22",
   "metadata": {},
   "outputs": [
    {
     "data": {
      "text/html": [
       "<div>\n",
       "<style scoped>\n",
       "    .dataframe tbody tr th:only-of-type {\n",
       "        vertical-align: middle;\n",
       "    }\n",
       "\n",
       "    .dataframe tbody tr th {\n",
       "        vertical-align: top;\n",
       "    }\n",
       "\n",
       "    .dataframe thead th {\n",
       "        text-align: right;\n",
       "    }\n",
       "</style>\n",
       "<table border=\"1\" class=\"dataframe\">\n",
       "  <thead>\n",
       "    <tr style=\"text-align: right;\">\n",
       "      <th></th>\n",
       "      <th>PRIORITY</th>\n",
       "      <th>concatenated_description</th>\n",
       "      <th>NUMBER</th>\n",
       "    </tr>\n",
       "  </thead>\n",
       "  <tbody>\n",
       "    <tr>\n",
       "      <th>0</th>\n",
       "      <td>0</td>\n",
       "      <td>management agent lostdevice ciloracd2022 of ty...</td>\n",
       "      <td>INC1319662</td>\n",
       "    </tr>\n",
       "    <tr>\n",
       "      <th>1</th>\n",
       "      <td>0</td>\n",
       "      <td>management agent lostdevice cvwiisxp00180. of ...</td>\n",
       "      <td>INC1155199</td>\n",
       "    </tr>\n",
       "    <tr>\n",
       "      <th>2</th>\n",
       "      <td>0</td>\n",
       "      <td>management agent lostdevice &lt;domain_name&gt; of t...</td>\n",
       "      <td>INC0799260</td>\n",
       "    </tr>\n",
       "    <tr>\n",
       "      <th>3</th>\n",
       "      <td>0</td>\n",
       "      <td>management agent losta major alarm was generat...</td>\n",
       "      <td>INC0650904</td>\n",
       "    </tr>\n",
       "    <tr>\n",
       "      <th>4</th>\n",
       "      <td>0</td>\n",
       "      <td>synthetic failure -specialty script gateway ur...</td>\n",
       "      <td>INC1599254</td>\n",
       "    </tr>\n",
       "  </tbody>\n",
       "</table>\n",
       "</div>"
      ],
      "text/plain": [
       "   PRIORITY                           concatenated_description      NUMBER\n",
       "0         0  management agent lostdevice ciloracd2022 of ty...  INC1319662\n",
       "1         0  management agent lostdevice cvwiisxp00180. of ...  INC1155199\n",
       "2         0  management agent lostdevice <domain_name> of t...  INC0799260\n",
       "3         0  management agent losta major alarm was generat...  INC0650904\n",
       "4         0  synthetic failure -specialty script gateway ur...  INC1599254"
      ]
     },
     "execution_count": 22,
     "metadata": {},
     "output_type": "execute_result"
    }
   ],
   "source": [
    "pd.options.mode.chained_assignment = None  # default='warn'\n",
    "df_text['concatenated_description'] = df_text['concatenated_description'].str.lower()\n",
    "df_text.head()"
   ]
  },
  {
   "cell_type": "markdown",
   "id": "fcd6ce9f",
   "metadata": {},
   "source": [
    "#### All characted other that alphabets (A-z) have been removed"
   ]
  },
  {
   "cell_type": "code",
   "execution_count": 23,
   "id": "998baea4",
   "metadata": {},
   "outputs": [
    {
     "data": {
      "text/html": [
       "<div>\n",
       "<style scoped>\n",
       "    .dataframe tbody tr th:only-of-type {\n",
       "        vertical-align: middle;\n",
       "    }\n",
       "\n",
       "    .dataframe tbody tr th {\n",
       "        vertical-align: top;\n",
       "    }\n",
       "\n",
       "    .dataframe thead th {\n",
       "        text-align: right;\n",
       "    }\n",
       "</style>\n",
       "<table border=\"1\" class=\"dataframe\">\n",
       "  <thead>\n",
       "    <tr style=\"text-align: right;\">\n",
       "      <th></th>\n",
       "      <th>PRIORITY</th>\n",
       "      <th>concatenated_description</th>\n",
       "      <th>NUMBER</th>\n",
       "    </tr>\n",
       "  </thead>\n",
       "  <tbody>\n",
       "    <tr>\n",
       "      <th>0</th>\n",
       "      <td>0</td>\n",
       "      <td>management agent lostdevice ciloracd of type h...</td>\n",
       "      <td>INC1319662</td>\n",
       "    </tr>\n",
       "    <tr>\n",
       "      <th>1</th>\n",
       "      <td>0</td>\n",
       "      <td>management agent lostdevice cvwiisxp of type h...</td>\n",
       "      <td>INC1155199</td>\n",
       "    </tr>\n",
       "    <tr>\n",
       "      <th>2</th>\n",
       "      <td>0</td>\n",
       "      <td>management agent lostdevice domain_name of typ...</td>\n",
       "      <td>INC0799260</td>\n",
       "    </tr>\n",
       "    <tr>\n",
       "      <th>3</th>\n",
       "      <td>0</td>\n",
       "      <td>management agent losta major alarm was generat...</td>\n",
       "      <td>INC0650904</td>\n",
       "    </tr>\n",
       "    <tr>\n",
       "      <th>4</th>\n",
       "      <td>0</td>\n",
       "      <td>synthetic failure specialty script gateway url...</td>\n",
       "      <td>INC1599254</td>\n",
       "    </tr>\n",
       "  </tbody>\n",
       "</table>\n",
       "</div>"
      ],
      "text/plain": [
       "   PRIORITY                           concatenated_description      NUMBER\n",
       "0         0  management agent lostdevice ciloracd of type h...  INC1319662\n",
       "1         0  management agent lostdevice cvwiisxp of type h...  INC1155199\n",
       "2         0  management agent lostdevice domain_name of typ...  INC0799260\n",
       "3         0  management agent losta major alarm was generat...  INC0650904\n",
       "4         0  synthetic failure specialty script gateway url...  INC1599254"
      ]
     },
     "execution_count": 23,
     "metadata": {},
     "output_type": "execute_result"
    }
   ],
   "source": [
    "df_text['concatenated_description'] = df_text['concatenated_description'].str.replace('[^A-z ]','').str.replace(' +',' ').str.strip()\n",
    "df_text.head()"
   ]
  },
  {
   "cell_type": "markdown",
   "id": "4dc302fb",
   "metadata": {},
   "source": [
    "#### This is to print first three values and cross-check"
   ]
  },
  {
   "cell_type": "code",
   "execution_count": 24,
   "id": "278e79f7",
   "metadata": {},
   "outputs": [
    {
     "name": "stdout",
     "output_type": "stream",
     "text": [
      "MANAGEMENT AGENT LOSTDevice ciloracd2022 of type Host_systemEDGE is no longer responding to primary management requests (e.g. SNMP), but appears to be responsive to other communication protocol (e.g. ICMP).This condition has persisted for an extended amount of time.An alarm will be generated.\n",
      "MANAGEMENT AGENT LOSTDevice cvwiisxp00180. of type Host_systemEDGE is no longer responding to primary management requests (e.g. SNMP), but appears to be responsive to other communication protocol (e.g. ICMP).This condition has persisted for an extended amount of time.An alarm will be generated.\n",
      "MANAGEMENT AGENT LOSTDevice <DOMAIN_NAME> of type Host_systemEDGE is no longer responding to primary management requests (e.g. SNMP), but appears to be responsive to other communication protocol (e.g. ICMP).This condition has persisted for an extended amount of time.An alarm will be generated.\n"
     ]
    }
   ],
   "source": [
    "print(df['concatenated_description'][0])\n",
    "print(df['concatenated_description'][1])\n",
    "print(df['concatenated_description'][2])"
   ]
  },
  {
   "cell_type": "markdown",
   "id": "85f9e6f5",
   "metadata": {},
   "source": [
    "#### We need to removed stop words like and, an, a, the which are not useful for the modeling. All the common words in nltk stopwords library are stored in variable stop. This is achived using Natural Language Tool Kit"
   ]
  },
  {
   "cell_type": "code",
   "execution_count": 25,
   "id": "0a56016b",
   "metadata": {},
   "outputs": [
    {
     "name": "stdout",
     "output_type": "stream",
     "text": [
      "Here are the stop words we will delete!\n",
      "['i', 'me', 'my', 'myself', 'we', 'our', 'ours', 'ourselves', 'you', \"you're\", \"you've\", \"you'll\", \"you'd\", 'your', 'yours', 'yourself', 'yourselves', 'he', 'him', 'his', 'himself', 'she', \"she's\", 'her', 'hers', 'herself', 'it', \"it's\", 'its', 'itself', 'they', 'them', 'their', 'theirs', 'themselves', 'what', 'which', 'who', 'whom', 'this', 'that', \"that'll\", 'these', 'those', 'am', 'is', 'are', 'was', 'were', 'be', 'been', 'being', 'have', 'has', 'had', 'having', 'do', 'does', 'did', 'doing', 'a', 'an', 'the', 'and', 'but', 'if', 'or', 'because', 'as', 'until', 'while', 'of', 'at', 'by', 'for', 'with', 'about', 'against', 'between', 'into', 'through', 'during', 'before', 'after', 'above', 'below', 'to', 'from', 'up', 'down', 'in', 'out', 'on', 'off', 'over', 'under', 'again', 'further', 'then', 'once', 'here', 'there', 'when', 'where', 'why', 'how', 'all', 'any', 'both', 'each', 'few', 'more', 'most', 'other', 'some', 'such', 'no', 'nor', 'not', 'only', 'own', 'same', 'so', 'than', 'too', 'very', 's', 't', 'can', 'will', 'just', 'don', \"don't\", 'should', \"should've\", 'now', 'd', 'll', 'm', 'o', 're', 've', 'y', 'ain', 'aren', \"aren't\", 'couldn', \"couldn't\", 'didn', \"didn't\", 'doesn', \"doesn't\", 'hadn', \"hadn't\", 'hasn', \"hasn't\", 'haven', \"haven't\", 'isn', \"isn't\", 'ma', 'mightn', \"mightn't\", 'mustn', \"mustn't\", 'needn', \"needn't\", 'shan', \"shan't\", 'shouldn', \"shouldn't\", 'wasn', \"wasn't\", 'weren', \"weren't\", 'won', \"won't\", 'wouldn', \"wouldn't\"]\n"
     ]
    },
    {
     "name": "stderr",
     "output_type": "stream",
     "text": [
      "[nltk_data] Error loading stopwords: <urlopen error [SSL:\n",
      "[nltk_data]     CERTIFICATE_VERIFY_FAILED] certificate verify failed:\n",
      "[nltk_data]     self signed certificate in certificate chain\n",
      "[nltk_data]     (_ssl.c:1125)>\n"
     ]
    }
   ],
   "source": [
    "# let's remove some of the stop words (see what happens if you comment this cell out)\n",
    "# we can do better!\n",
    "# define some stop words\n",
    "\n",
    "nltk.download('stopwords') # this makes sure these are downloaded if you haven't already!\n",
    "\n",
    "print('Here are the stop words we will delete!')\n",
    "print(stopwords.words('english'))\n",
    "\n",
    "stop = stopwords.words('english') # see why it's important to turn everything lower case? all of your stopwords are!"
   ]
  },
  {
   "cell_type": "markdown",
   "id": "f85b4094",
   "metadata": {},
   "source": [
    "#### The following lamba function will delete all the stop words from concated description column"
   ]
  },
  {
   "cell_type": "code",
   "execution_count": 26,
   "id": "a797d8e2",
   "metadata": {},
   "outputs": [
    {
     "data": {
      "text/html": [
       "<div>\n",
       "<style scoped>\n",
       "    .dataframe tbody tr th:only-of-type {\n",
       "        vertical-align: middle;\n",
       "    }\n",
       "\n",
       "    .dataframe tbody tr th {\n",
       "        vertical-align: top;\n",
       "    }\n",
       "\n",
       "    .dataframe thead th {\n",
       "        text-align: right;\n",
       "    }\n",
       "</style>\n",
       "<table border=\"1\" class=\"dataframe\">\n",
       "  <thead>\n",
       "    <tr style=\"text-align: right;\">\n",
       "      <th></th>\n",
       "      <th>PRIORITY</th>\n",
       "      <th>concatenated_description</th>\n",
       "      <th>NUMBER</th>\n",
       "    </tr>\n",
       "  </thead>\n",
       "  <tbody>\n",
       "    <tr>\n",
       "      <th>0</th>\n",
       "      <td>0</td>\n",
       "      <td>management agent lostdevice ciloracd type host...</td>\n",
       "      <td>INC1319662</td>\n",
       "    </tr>\n",
       "    <tr>\n",
       "      <th>1</th>\n",
       "      <td>0</td>\n",
       "      <td>management agent lostdevice cvwiisxp type host...</td>\n",
       "      <td>INC1155199</td>\n",
       "    </tr>\n",
       "    <tr>\n",
       "      <th>2</th>\n",
       "      <td>0</td>\n",
       "      <td>management agent lostdevice domain_name type h...</td>\n",
       "      <td>INC0799260</td>\n",
       "    </tr>\n",
       "    <tr>\n",
       "      <th>3</th>\n",
       "      <td>0</td>\n",
       "      <td>management agent losta major alarm generated s...</td>\n",
       "      <td>INC0650904</td>\n",
       "    </tr>\n",
       "    <tr>\n",
       "      <th>4</th>\n",
       "      <td>0</td>\n",
       "      <td>synthetic failure specialty script gateway url...</td>\n",
       "      <td>INC1599254</td>\n",
       "    </tr>\n",
       "  </tbody>\n",
       "</table>\n",
       "</div>"
      ],
      "text/plain": [
       "   PRIORITY                           concatenated_description      NUMBER\n",
       "0         0  management agent lostdevice ciloracd type host...  INC1319662\n",
       "1         0  management agent lostdevice cvwiisxp type host...  INC1155199\n",
       "2         0  management agent lostdevice domain_name type h...  INC0799260\n",
       "3         0  management agent losta major alarm generated s...  INC0650904\n",
       "4         0  synthetic failure specialty script gateway url...  INC1599254"
      ]
     },
     "execution_count": 26,
     "metadata": {},
     "output_type": "execute_result"
    }
   ],
   "source": [
    "# this looks good! \n",
    "# ' '.join adds a nice space between the words after removing stop words\n",
    "\n",
    "df_text[\"concatenated_description\"] = df_text['concatenated_description'].apply(lambda x: ' '.join([word for word in x.split() if word not in (stop)])) \n",
    "df_text.head()"
   ]
  },
  {
   "cell_type": "markdown",
   "id": "8acc5192",
   "metadata": {},
   "source": [
    "## Text Analytics\n",
    "#### Analyzing the most common words occured in entire description column"
   ]
  },
  {
   "cell_type": "code",
   "execution_count": 27,
   "id": "f7aa6d94",
   "metadata": {},
   "outputs": [],
   "source": [
    "# 1) what are the most common words in the ASSIGNMENT_GROUP? note that we are doing this before tokenizer\n",
    "# you can also turn this into a bar plot!\n",
    "myTable = df_text['concatenated_description'].str.split(expand=True).stack().value_counts()"
   ]
  },
  {
   "cell_type": "code",
   "execution_count": 28,
   "id": "4326c1e6",
   "metadata": {},
   "outputs": [
    {
     "data": {
      "text/plain": [
       "alarm              381369\n",
       "event              234488\n",
       "generated          230037\n",
       "soi                180267\n",
       "device             175462\n",
       "host_systemedge    157496\n",
       "uptime             148984\n",
       "agent              145023\n",
       "time               138479\n",
       "please             135845\n",
       "dtype: int64"
      ]
     },
     "execution_count": 28,
     "metadata": {},
     "output_type": "execute_result"
    }
   ],
   "source": [
    "myTable[0:10] # too cool! pick your own number!"
   ]
  },
  {
   "cell_type": "markdown",
   "id": "1adc0d43",
   "metadata": {},
   "source": [
    "#### Tokenization is a way of separating a piece of text into smaller units called tokens. Each word will be seperated and stored as Tokens."
   ]
  },
  {
   "cell_type": "code",
   "execution_count": 29,
   "id": "0e3fb33e",
   "metadata": {},
   "outputs": [
    {
     "name": "stderr",
     "output_type": "stream",
     "text": [
      "[nltk_data] Error loading punkt: <urlopen error [SSL:\n",
      "[nltk_data]     CERTIFICATE_VERIFY_FAILED] certificate verify failed:\n",
      "[nltk_data]     self signed certificate in certificate chain\n",
      "[nltk_data]     (_ssl.c:1125)>\n"
     ]
    },
    {
     "data": {
      "text/html": [
       "<div>\n",
       "<style scoped>\n",
       "    .dataframe tbody tr th:only-of-type {\n",
       "        vertical-align: middle;\n",
       "    }\n",
       "\n",
       "    .dataframe tbody tr th {\n",
       "        vertical-align: top;\n",
       "    }\n",
       "\n",
       "    .dataframe thead th {\n",
       "        text-align: right;\n",
       "    }\n",
       "</style>\n",
       "<table border=\"1\" class=\"dataframe\">\n",
       "  <thead>\n",
       "    <tr style=\"text-align: right;\">\n",
       "      <th></th>\n",
       "      <th>PRIORITY</th>\n",
       "      <th>concatenated_description</th>\n",
       "      <th>NUMBER</th>\n",
       "    </tr>\n",
       "  </thead>\n",
       "  <tbody>\n",
       "    <tr>\n",
       "      <th>0</th>\n",
       "      <td>0</td>\n",
       "      <td>[management, agent, lostdevice, ciloracd, type...</td>\n",
       "      <td>INC1319662</td>\n",
       "    </tr>\n",
       "    <tr>\n",
       "      <th>1</th>\n",
       "      <td>0</td>\n",
       "      <td>[management, agent, lostdevice, cvwiisxp, type...</td>\n",
       "      <td>INC1155199</td>\n",
       "    </tr>\n",
       "    <tr>\n",
       "      <th>2</th>\n",
       "      <td>0</td>\n",
       "      <td>[management, agent, lostdevice, domain_name, t...</td>\n",
       "      <td>INC0799260</td>\n",
       "    </tr>\n",
       "    <tr>\n",
       "      <th>3</th>\n",
       "      <td>0</td>\n",
       "      <td>[management, agent, losta, major, alarm, gener...</td>\n",
       "      <td>INC0650904</td>\n",
       "    </tr>\n",
       "    <tr>\n",
       "      <th>4</th>\n",
       "      <td>0</td>\n",
       "      <td>[synthetic, failure, specialty, script, gatewa...</td>\n",
       "      <td>INC1599254</td>\n",
       "    </tr>\n",
       "  </tbody>\n",
       "</table>\n",
       "</div>"
      ],
      "text/plain": [
       "   PRIORITY                           concatenated_description      NUMBER\n",
       "0         0  [management, agent, lostdevice, ciloracd, type...  INC1319662\n",
       "1         0  [management, agent, lostdevice, cvwiisxp, type...  INC1155199\n",
       "2         0  [management, agent, lostdevice, domain_name, t...  INC0799260\n",
       "3         0  [management, agent, losta, major, alarm, gener...  INC0650904\n",
       "4         0  [synthetic, failure, specialty, script, gatewa...  INC1599254"
      ]
     },
     "execution_count": 29,
     "metadata": {},
     "output_type": "execute_result"
    }
   ],
   "source": [
    "\n",
    "nltk.download('punkt')\n",
    "df_text['concatenated_description'] = df_text.apply(lambda row: nltk.word_tokenize(row['concatenated_description']), axis=1)\n",
    "df_text.head()"
   ]
  },
  {
   "cell_type": "markdown",
   "id": "7bf8493b",
   "metadata": {},
   "source": [
    "#### Stemming is the process of reducing a word to its word stem that affixes to suffixes and prefixes or to the roots of words known as a lemma.\n",
    "#### This cuts down on dimensionality\n",
    "#### For example, the stem of the words eating, eats, eaten is eat."
   ]
  },
  {
   "cell_type": "code",
   "execution_count": 30,
   "id": "df82e124",
   "metadata": {},
   "outputs": [
    {
     "name": "stdout",
     "output_type": "stream",
     "text": [
      "Filtered Sentence: ['management', 'agent', 'lostdevice', 'ciloracd', 'type', 'host_systemedge', 'longer', 'responding', 'primary', 'management', 'requests', 'eg', 'snmp', 'appears', 'responsive', 'communication', 'protocol', 'eg', 'icmpthis', 'condition', 'persisted', 'extended', 'amount', 'timean', 'alarm', 'generated']\n",
      "Stemmed Sentence: ['manag', 'agent', 'lostdevic', 'ciloracd', 'type', 'host_systemedg', 'longer', 'respond', 'primari', 'manag', 'request', 'eg', 'snmp', 'appear', 'respons', 'commun', 'protocol', 'eg', 'icmpthi', 'condit', 'persist', 'extend', 'amount', 'timean', 'alarm', 'gener']\n"
     ]
    }
   ],
   "source": [
    "# we won't use this today, but sure, it's possible to chop a word down\n",
    "# this cuts down on dimensionality \n",
    "# using the example above, three words turn into one \"connec\"\n",
    "\n",
    "# this is the function we will use\n",
    "ps = PorterStemmer()\n",
    "\n",
    "filtered_sent = df_text['concatenated_description'][0]\n",
    "\n",
    "stemmed_words=[]\n",
    "for w in filtered_sent:\n",
    "    stemmed_words.append(ps.stem(w))\n",
    "\n",
    "print(\"Filtered Sentence:\",filtered_sent)\n",
    "print(\"Stemmed Sentence:\",stemmed_words)\n",
    "\n",
    "# in our example, we just got rid of \"reported\""
   ]
  },
  {
   "cell_type": "markdown",
   "id": "816463a4",
   "metadata": {},
   "source": [
    "#### By applying lambda function, creating a new column with all the stemmed words and printing first few records"
   ]
  },
  {
   "cell_type": "code",
   "execution_count": 31,
   "id": "fda1ad66",
   "metadata": {},
   "outputs": [],
   "source": [
    "# if we wanted to, we could make a new column with just the stemmed words\n",
    "# link: https://stackoverflow.com/questions/37443138/python-stemming-with-pandas-dataframe\n",
    "df_text['Stemmed'] = df_text['concatenated_description'].apply(lambda x: [ps.stem(y) for y in x]) # Stem every word."
   ]
  },
  {
   "cell_type": "code",
   "execution_count": 32,
   "id": "ebe48e4d",
   "metadata": {},
   "outputs": [
    {
     "data": {
      "text/html": [
       "<div>\n",
       "<style scoped>\n",
       "    .dataframe tbody tr th:only-of-type {\n",
       "        vertical-align: middle;\n",
       "    }\n",
       "\n",
       "    .dataframe tbody tr th {\n",
       "        vertical-align: top;\n",
       "    }\n",
       "\n",
       "    .dataframe thead th {\n",
       "        text-align: right;\n",
       "    }\n",
       "</style>\n",
       "<table border=\"1\" class=\"dataframe\">\n",
       "  <thead>\n",
       "    <tr style=\"text-align: right;\">\n",
       "      <th></th>\n",
       "      <th>PRIORITY</th>\n",
       "      <th>concatenated_description</th>\n",
       "      <th>NUMBER</th>\n",
       "      <th>Stemmed</th>\n",
       "    </tr>\n",
       "  </thead>\n",
       "  <tbody>\n",
       "    <tr>\n",
       "      <th>0</th>\n",
       "      <td>0</td>\n",
       "      <td>[management, agent, lostdevice, ciloracd, type...</td>\n",
       "      <td>INC1319662</td>\n",
       "      <td>[manag, agent, lostdevic, ciloracd, type, host...</td>\n",
       "    </tr>\n",
       "    <tr>\n",
       "      <th>1</th>\n",
       "      <td>0</td>\n",
       "      <td>[management, agent, lostdevice, cvwiisxp, type...</td>\n",
       "      <td>INC1155199</td>\n",
       "      <td>[manag, agent, lostdevic, cvwiisxp, type, host...</td>\n",
       "    </tr>\n",
       "    <tr>\n",
       "      <th>2</th>\n",
       "      <td>0</td>\n",
       "      <td>[management, agent, lostdevice, domain_name, t...</td>\n",
       "      <td>INC0799260</td>\n",
       "      <td>[manag, agent, lostdevic, domain_nam, type, ho...</td>\n",
       "    </tr>\n",
       "    <tr>\n",
       "      <th>3</th>\n",
       "      <td>0</td>\n",
       "      <td>[management, agent, losta, major, alarm, gener...</td>\n",
       "      <td>INC0650904</td>\n",
       "      <td>[manag, agent, losta, major, alarm, gener, soi...</td>\n",
       "    </tr>\n",
       "    <tr>\n",
       "      <th>4</th>\n",
       "      <td>0</td>\n",
       "      <td>[synthetic, failure, specialty, script, gatewa...</td>\n",
       "      <td>INC1599254</td>\n",
       "      <td>[synthet, failur, specialti, script, gateway, ...</td>\n",
       "    </tr>\n",
       "  </tbody>\n",
       "</table>\n",
       "</div>"
      ],
      "text/plain": [
       "   PRIORITY                           concatenated_description      NUMBER  \\\n",
       "0         0  [management, agent, lostdevice, ciloracd, type...  INC1319662   \n",
       "1         0  [management, agent, lostdevice, cvwiisxp, type...  INC1155199   \n",
       "2         0  [management, agent, lostdevice, domain_name, t...  INC0799260   \n",
       "3         0  [management, agent, losta, major, alarm, gener...  INC0650904   \n",
       "4         0  [synthetic, failure, specialty, script, gatewa...  INC1599254   \n",
       "\n",
       "                                             Stemmed  \n",
       "0  [manag, agent, lostdevic, ciloracd, type, host...  \n",
       "1  [manag, agent, lostdevic, cvwiisxp, type, host...  \n",
       "2  [manag, agent, lostdevic, domain_nam, type, ho...  \n",
       "3  [manag, agent, losta, major, alarm, gener, soi...  \n",
       "4  [synthet, failur, specialti, script, gateway, ...  "
      ]
     },
     "execution_count": 32,
     "metadata": {},
     "output_type": "execute_result"
    }
   ],
   "source": [
    "df_text.head()"
   ]
  },
  {
   "cell_type": "markdown",
   "id": "ab2691b6",
   "metadata": {},
   "source": [
    "#### The following user-defined function will help to re-join all stemmed words in the form of one single sentence. Once the transformation is done, we are printing top 5 values"
   ]
  },
  {
   "cell_type": "code",
   "execution_count": 33,
   "id": "733c80bd",
   "metadata": {},
   "outputs": [
    {
     "data": {
      "text/plain": [
       "0    manag agent lostdevic ciloracd type host_syste...\n",
       "1    manag agent lostdevic cvwiisxp type host_syste...\n",
       "2    manag agent lostdevic domain_nam type host_sys...\n",
       "3    manag agent losta major alarm gener soi event ...\n",
       "4    synthet failur specialti script gateway url ht...\n",
       "Name: Stemmed, dtype: object"
      ]
     },
     "execution_count": 33,
     "metadata": {},
     "output_type": "execute_result"
    }
   ],
   "source": [
    "def rejoin_words(row):\n",
    "    my_list = row['Stemmed']\n",
    "    joined_words = ( \" \".join(my_list))\n",
    "    return joined_words\n",
    "\n",
    "df_text['Stemmed'] = df_text.apply(rejoin_words, axis=1)\n",
    "# here it is after - no square brackets and commas!\n",
    "df_text['Stemmed'].head()"
   ]
  },
  {
   "cell_type": "markdown",
   "id": "ccf414fc",
   "metadata": {},
   "source": [
    "#### Creating two data frames (X,y) with X features and y features"
   ]
  },
  {
   "cell_type": "code",
   "execution_count": 35,
   "id": "17c8c012",
   "metadata": {},
   "outputs": [
    {
     "name": "stdout",
     "output_type": "stream",
     "text": [
      "(328180, 2) (328180,)\n"
     ]
    }
   ],
   "source": [
    "\n",
    "X_LIST=['NUMBER','Stemmed']\n",
    "\n",
    "X=pd.DataFrame(df_text[X_LIST])\n",
    "y=df_text['PRIORITY']\n",
    "print(X.shape,y.shape)"
   ]
  },
  {
   "cell_type": "markdown",
   "id": "e30553e4",
   "metadata": {},
   "source": [
    "#### Each model should be trained with training data and then we will evaluate the model with test data. So, We are assigning 70% of the data for training and 30% of the data for modeling using train_test_split function"
   ]
  },
  {
   "cell_type": "code",
   "execution_count": 38,
   "id": "8231aec4",
   "metadata": {},
   "outputs": [],
   "source": [
    "#Split train-test data\n",
    "X_train, X_test, y_train, y_test = train_test_split(X,y,test_size=0.30,random_state = 123)"
   ]
  },
  {
   "cell_type": "markdown",
   "id": "43fde668",
   "metadata": {},
   "source": [
    "#### As we have three variables in the form of text format. We need to convert them in the form of vector and horizontally stack them using hstack function. Once we convert them in to vectorized format, the data will be stored as Sparse matrix.\n",
    "\n",
    "#### Vectorizing Stemmed"
   ]
  },
  {
   "cell_type": "code",
   "execution_count": 39,
   "id": "0355fd26",
   "metadata": {},
   "outputs": [
    {
     "name": "stdout",
     "output_type": "stream",
     "text": [
      "After vectorizations after Stemmed\n",
      "(229726, 12678) (229726,)\n",
      "(98454, 12678) (98454,)\n"
     ]
    }
   ],
   "source": [
    "vectorizer = TfidfVectorizer(min_df=10)\n",
    "vectorizer.fit(X_train['Stemmed']) \n",
    "X_train_Description_tfidf=vectorizer.transform(X_train['Stemmed'].values) \n",
    "X_test_Description_tfidf=vectorizer.transform(X_test['Stemmed'].values) \n",
    "print(\"After vectorizations after Stemmed\")\n",
    "print(X_train_Description_tfidf.shape, y_train.shape) \n",
    "print(X_test_Description_tfidf.shape, y_test.shape)"
   ]
  },
  {
   "cell_type": "markdown",
   "id": "e4e2f3a3",
   "metadata": {},
   "source": [
    "#### Checking records before sampling"
   ]
  },
  {
   "cell_type": "code",
   "execution_count": 316,
   "id": "df50eedb",
   "metadata": {},
   "outputs": [
    {
     "name": "stdout",
     "output_type": "stream",
     "text": [
      "Before oversampling:  Counter({0: 97515, 1: 939})\n"
     ]
    }
   ],
   "source": [
    "# summarize class distribution\n",
    "print(\"Before oversampling: \", Counter(y_test))"
   ]
  },
  {
   "cell_type": "code",
   "execution_count": 317,
   "id": "7aa6bda9",
   "metadata": {},
   "outputs": [
    {
     "name": "stdout",
     "output_type": "stream",
     "text": [
      "Before oversampling:  Counter({0: 181939, 1: 181929})\n"
     ]
    }
   ],
   "source": [
    "# summarize class distribution\n",
    "print(\"Before oversampling: \", Counter(y_train))"
   ]
  },
  {
   "cell_type": "markdown",
   "id": "cdd973fd",
   "metadata": {},
   "source": [
    "#### Applying OverSampling using SMOTE function"
   ]
  },
  {
   "cell_type": "code",
   "execution_count": 40,
   "id": "2e9e05de",
   "metadata": {},
   "outputs": [],
   "source": [
    "#oversample = RandomOverSampler(sampling_strategy=0.5)\n",
    "oversample = BorderlineSMOTE()"
   ]
  },
  {
   "cell_type": "code",
   "execution_count": 41,
   "id": "eb69890d",
   "metadata": {},
   "outputs": [],
   "source": [
    "# fit and apply the transform\n",
    "X_train_over, y_train_over = oversample.fit_resample(X_train_Description_tfidf, y_train)"
   ]
  },
  {
   "cell_type": "markdown",
   "id": "66b7ebd1",
   "metadata": {},
   "source": [
    "#### train dataset rows after sampling"
   ]
  },
  {
   "cell_type": "code",
   "execution_count": 144,
   "id": "70f8fa1b",
   "metadata": {},
   "outputs": [
    {
     "name": "stdout",
     "output_type": "stream",
     "text": [
      "After oversampling:  Counter({0: 227418, 1: 227418})\n"
     ]
    }
   ],
   "source": [
    "# summarize class distribution\n",
    "print(\"After oversampling: \", Counter(y_train_over))"
   ]
  },
  {
   "cell_type": "markdown",
   "id": "46d834a6",
   "metadata": {},
   "source": [
    "#### Splitting the training data into training and validation data"
   ]
  },
  {
   "cell_type": "code",
   "execution_count": 42,
   "id": "688cb478",
   "metadata": {},
   "outputs": [
    {
     "name": "stdout",
     "output_type": "stream",
     "text": [
      "done\n"
     ]
    }
   ],
   "source": [
    "from sklearn.model_selection import train_test_split\n",
    "\n",
    "#100 - 60 and 40\n",
    "\n",
    "#40 -  20 and 20\n",
    "\n",
    "# 60% Training; 20% Validation; 20% Test\n",
    "# text_counts is a SPARSE MATRIX!\n",
    "\n",
    "X_train, X_val, y_train, y_val = train_test_split(X_train_over, y_train_over, \n",
    "                                                 test_size=0.2, \n",
    "                                                   shuffle=True,\n",
    "                                                    random_state = 123)\n",
    "print(\"done\")"
   ]
  },
  {
   "cell_type": "markdown",
   "id": "876e0564",
   "metadata": {},
   "source": [
    "### Model - Decision Tree Classifier"
   ]
  },
  {
   "cell_type": "code",
   "execution_count": 47,
   "id": "94a8f4d0",
   "metadata": {},
   "outputs": [
    {
     "name": "stdout",
     "output_type": "stream",
     "text": [
      "DTC Accuracy (test): 0.990604749426128\n",
      "DTC Accuracy (val): 0.9933053381408847\n"
     ]
    }
   ],
   "source": [
    "from sklearn.tree import DecisionTreeClassifier\n",
    "\n",
    "#Import scikit-learn metrics module for accuracy calculation\n",
    "from sklearn import metrics\n",
    "clf = DecisionTreeClassifier(max_depth=24,criterion='gini').fit(X_train, y_train)\n",
    "\n",
    "predicted_y_test= clf.predict(X_test_Description_tfidf)\n",
    "print(\"DTC Accuracy (test):\",metrics.accuracy_score(y_test, predicted_y_test))\n",
    "predicted_y_val= clf.predict(X_val)\n",
    "print(\"DTC Accuracy (val):\",metrics.accuracy_score(y_val, predicted_y_val))\n"
   ]
  },
  {
   "cell_type": "markdown",
   "id": "9645e25d",
   "metadata": {},
   "source": [
    "#### predicting the probability of an incident of becoming a managed incident for X test data"
   ]
  },
  {
   "cell_type": "code",
   "execution_count": null,
   "id": "376853e8",
   "metadata": {},
   "outputs": [],
   "source": [
    "y=clf.predict_proba(X_test_Description_tfidf)                      "
   ]
  },
  {
   "cell_type": "markdown",
   "id": "94931a0d",
   "metadata": {},
   "source": [
    "#### Concatinating Number, actual probability of test data(Priority) and predicted probability"
   ]
  },
  {
   "cell_type": "code",
   "execution_count": 153,
   "id": "d79b8edb",
   "metadata": {},
   "outputs": [
    {
     "data": {
      "text/html": [
       "<div>\n",
       "<style scoped>\n",
       "    .dataframe tbody tr th:only-of-type {\n",
       "        vertical-align: middle;\n",
       "    }\n",
       "\n",
       "    .dataframe tbody tr th {\n",
       "        vertical-align: top;\n",
       "    }\n",
       "\n",
       "    .dataframe thead th {\n",
       "        text-align: right;\n",
       "    }\n",
       "</style>\n",
       "<table border=\"1\" class=\"dataframe\">\n",
       "  <thead>\n",
       "    <tr style=\"text-align: right;\">\n",
       "      <th></th>\n",
       "      <th>NUMBER</th>\n",
       "    </tr>\n",
       "  </thead>\n",
       "  <tbody>\n",
       "    <tr>\n",
       "      <th>0</th>\n",
       "      <td>INC1701989</td>\n",
       "    </tr>\n",
       "    <tr>\n",
       "      <th>1</th>\n",
       "      <td>INC0483890</td>\n",
       "    </tr>\n",
       "    <tr>\n",
       "      <th>2</th>\n",
       "      <td>INC0197147</td>\n",
       "    </tr>\n",
       "    <tr>\n",
       "      <th>3</th>\n",
       "      <td>INC1657187</td>\n",
       "    </tr>\n",
       "    <tr>\n",
       "      <th>4</th>\n",
       "      <td>INC1453342</td>\n",
       "    </tr>\n",
       "  </tbody>\n",
       "</table>\n",
       "</div>"
      ],
      "text/plain": [
       "       NUMBER\n",
       "0  INC1701989\n",
       "1  INC0483890\n",
       "2  INC0197147\n",
       "3  INC1657187\n",
       "4  INC1453342"
      ]
     },
     "execution_count": 153,
     "metadata": {},
     "output_type": "execute_result"
    }
   ],
   "source": [
    "X_test_df  = pd.DataFrame(X_test['NUMBER'], columns = ['NUMBER']).reset_index(drop=True)\n",
    "X_test_df.head()"
   ]
  },
  {
   "cell_type": "code",
   "execution_count": 156,
   "id": "39d6053c",
   "metadata": {},
   "outputs": [],
   "source": [
    "y_test_df=pd.DataFrame(y_test).reset_index(drop=True)\n",
    "y_pred_df=pd.DataFrame(y).reset_index(drop=True)"
   ]
  },
  {
   "cell_type": "code",
   "execution_count": 157,
   "id": "c3bcf2f1",
   "metadata": {},
   "outputs": [
    {
     "data": {
      "text/html": [
       "<div>\n",
       "<style scoped>\n",
       "    .dataframe tbody tr th:only-of-type {\n",
       "        vertical-align: middle;\n",
       "    }\n",
       "\n",
       "    .dataframe tbody tr th {\n",
       "        vertical-align: top;\n",
       "    }\n",
       "\n",
       "    .dataframe thead th {\n",
       "        text-align: right;\n",
       "    }\n",
       "</style>\n",
       "<table border=\"1\" class=\"dataframe\">\n",
       "  <thead>\n",
       "    <tr style=\"text-align: right;\">\n",
       "      <th></th>\n",
       "      <th>NUMBER</th>\n",
       "      <th>PRIORITY</th>\n",
       "      <th>0</th>\n",
       "      <th>1</th>\n",
       "    </tr>\n",
       "  </thead>\n",
       "  <tbody>\n",
       "    <tr>\n",
       "      <th>0</th>\n",
       "      <td>INC1701989</td>\n",
       "      <td>0</td>\n",
       "      <td>1.000000</td>\n",
       "      <td>0.000000</td>\n",
       "    </tr>\n",
       "    <tr>\n",
       "      <th>1</th>\n",
       "      <td>INC0483890</td>\n",
       "      <td>0</td>\n",
       "      <td>1.000000</td>\n",
       "      <td>0.000000</td>\n",
       "    </tr>\n",
       "    <tr>\n",
       "      <th>2</th>\n",
       "      <td>INC0197147</td>\n",
       "      <td>0</td>\n",
       "      <td>1.000000</td>\n",
       "      <td>0.000000</td>\n",
       "    </tr>\n",
       "    <tr>\n",
       "      <th>3</th>\n",
       "      <td>INC1657187</td>\n",
       "      <td>0</td>\n",
       "      <td>0.978388</td>\n",
       "      <td>0.021612</td>\n",
       "    </tr>\n",
       "    <tr>\n",
       "      <th>4</th>\n",
       "      <td>INC1453342</td>\n",
       "      <td>0</td>\n",
       "      <td>1.000000</td>\n",
       "      <td>0.000000</td>\n",
       "    </tr>\n",
       "    <tr>\n",
       "      <th>5</th>\n",
       "      <td>INC0649183</td>\n",
       "      <td>0</td>\n",
       "      <td>1.000000</td>\n",
       "      <td>0.000000</td>\n",
       "    </tr>\n",
       "    <tr>\n",
       "      <th>6</th>\n",
       "      <td>INC0159462</td>\n",
       "      <td>0</td>\n",
       "      <td>0.978388</td>\n",
       "      <td>0.021612</td>\n",
       "    </tr>\n",
       "    <tr>\n",
       "      <th>7</th>\n",
       "      <td>INC1294388</td>\n",
       "      <td>0</td>\n",
       "      <td>1.000000</td>\n",
       "      <td>0.000000</td>\n",
       "    </tr>\n",
       "    <tr>\n",
       "      <th>8</th>\n",
       "      <td>INC1544577</td>\n",
       "      <td>0</td>\n",
       "      <td>0.978388</td>\n",
       "      <td>0.021612</td>\n",
       "    </tr>\n",
       "    <tr>\n",
       "      <th>9</th>\n",
       "      <td>INC1279294</td>\n",
       "      <td>0</td>\n",
       "      <td>0.978388</td>\n",
       "      <td>0.021612</td>\n",
       "    </tr>\n",
       "  </tbody>\n",
       "</table>\n",
       "</div>"
      ],
      "text/plain": [
       "       NUMBER  PRIORITY         0         1\n",
       "0  INC1701989         0  1.000000  0.000000\n",
       "1  INC0483890         0  1.000000  0.000000\n",
       "2  INC0197147         0  1.000000  0.000000\n",
       "3  INC1657187         0  0.978388  0.021612\n",
       "4  INC1453342         0  1.000000  0.000000\n",
       "5  INC0649183         0  1.000000  0.000000\n",
       "6  INC0159462         0  0.978388  0.021612\n",
       "7  INC1294388         0  1.000000  0.000000\n",
       "8  INC1544577         0  0.978388  0.021612\n",
       "9  INC1279294         0  0.978388  0.021612"
      ]
     },
     "execution_count": 157,
     "metadata": {},
     "output_type": "execute_result"
    }
   ],
   "source": [
    "final_df = pd.concat([X_test_df, y_test_df,  y_pred_df], axis=1)\n",
    "final_df.head(10)"
   ]
  },
  {
   "cell_type": "markdown",
   "id": "a5ea1e0c",
   "metadata": {},
   "source": [
    "#### saving data to csv file"
   ]
  },
  {
   "cell_type": "code",
   "execution_count": 158,
   "id": "43fa1433",
   "metadata": {},
   "outputs": [],
   "source": [
    "final_df.to_csv('sheetfinal.csv')"
   ]
  },
  {
   "cell_type": "markdown",
   "id": "4bcc0b3e",
   "metadata": {},
   "source": [
    "#### classification report"
   ]
  },
  {
   "cell_type": "code",
   "execution_count": 61,
   "id": "d84aea3c",
   "metadata": {},
   "outputs": [
    {
     "name": "stdout",
     "output_type": "stream",
     "text": [
      "              precision    recall  f1-score   support\n",
      "\n",
      "           0       1.00      0.90      0.95     97493\n",
      "           1       0.08      0.88      0.15       954\n",
      "\n",
      "    accuracy                           0.90     98447\n",
      "   macro avg       0.54      0.89      0.55     98447\n",
      "weighted avg       0.99      0.90      0.94     98447\n",
      "\n"
     ]
    }
   ],
   "source": [
    "\n",
    "from sklearn.metrics import classification_report\n",
    "print(classification_report(y_test, predicted_y_test))"
   ]
  },
  {
   "cell_type": "markdown",
   "id": "bf1d42d7",
   "metadata": {},
   "source": [
    "#### Confusion Matrix table"
   ]
  },
  {
   "cell_type": "code",
   "execution_count": 62,
   "id": "7b6a1040",
   "metadata": {},
   "outputs": [
    {
     "data": {
      "text/plain": [
       "array([[87957,  9536],\n",
       "       [  116,   838]])"
      ]
     },
     "execution_count": 62,
     "metadata": {},
     "output_type": "execute_result"
    }
   ],
   "source": [
    "from sklearn.metrics import confusion_matrix\n",
    "confusion_matrix(y_test, predicted_y_test)"
   ]
  },
  {
   "cell_type": "markdown",
   "id": "dfe84038",
   "metadata": {},
   "source": [
    "### RANDOM FOREST CLASSIFIER"
   ]
  },
  {
   "cell_type": "code",
   "execution_count": 44,
   "id": "e749067a",
   "metadata": {},
   "outputs": [
    {
     "name": "stdout",
     "output_type": "stream",
     "text": [
      "RFC Accuracy (test): 0.9932151055315173\n",
      "RFC Accuracy (val): 0.9889081874945036\n",
      "RFC Accuracy (train): 0.9895401629162224\n",
      "done\n"
     ]
    }
   ],
   "source": [
    "from sklearn.ensemble import RandomForestClassifier\n",
    "#Import scikit-learn metrics module for accuracy calculation\n",
    "from sklearn import metrics\n",
    "# Model Generation Using Multinomial Naive Bayes\n",
    "rf = RandomForestClassifier(n_estimators=20,random_state=0,criterion='gini',max_depth=30).fit(X_train, y_train)\n",
    "rf_predicted_test= rf.predict(X_test_Description_tfidf)\n",
    "print(\"RFC Accuracy (test):\",metrics.accuracy_score(y_test, rf_predicted_test))\n",
    "rf_predicted_val= rf.predict(X_val)\n",
    "print(\"RFC Accuracy (val):\",metrics.accuracy_score(y_val, rf_predicted_val))\n",
    "rf_predicted_train= rf.predict(X_train)\n",
    "print(\"RFC Accuracy (train):\",metrics.accuracy_score(y_train, rf_predicted_train))\n",
    "print(\"done\")\n",
    "# think of how much time this saves and we didn't even have\n",
    "# to read any of this, just needed to be careful with our \n",
    "# data prep and let it rip!"
   ]
  },
  {
   "cell_type": "markdown",
   "id": "e50c5804",
   "metadata": {},
   "source": [
    "#### predicting the probability of an incident of becoming a managed incident for X test data"
   ]
  },
  {
   "cell_type": "code",
   "execution_count": 45,
   "id": "baaf2637",
   "metadata": {},
   "outputs": [
    {
     "data": {
      "text/plain": [
       "array([[1.        , 0.        ],\n",
       "       [0.94887988, 0.05112012],\n",
       "       [0.98004402, 0.01995598],\n",
       "       ...,\n",
       "       [0.97972463, 0.02027537],\n",
       "       [0.91555033, 0.08444967],\n",
       "       [0.78014334, 0.21985666]])"
      ]
     },
     "execution_count": 45,
     "metadata": {},
     "output_type": "execute_result"
    }
   ],
   "source": [
    "rf.predict_proba(X_test_Description_tfidf) "
   ]
  },
  {
   "cell_type": "markdown",
   "id": "21127623",
   "metadata": {},
   "source": [
    "### LOGISTIC REGRESSION"
   ]
  },
  {
   "cell_type": "code",
   "execution_count": 46,
   "id": "7a4aeec4",
   "metadata": {},
   "outputs": [
    {
     "name": "stdout",
     "output_type": "stream",
     "text": [
      "RFC Accuracy (test): 0.9917321794949926\n",
      "RFC Accuracy (val): 0.996020578665025\n",
      "RFC Accuracy (train): 0.996020578665025\n"
     ]
    },
    {
     "name": "stderr",
     "output_type": "stream",
     "text": [
      "/Users/ashimagupta/opt/anaconda3/lib/python3.8/site-packages/sklearn/linear_model/_sag.py:328: ConvergenceWarning: The max_iter was reached which means the coef_ did not converge\n",
      "  warnings.warn(\"The max_iter was reached which means \"\n"
     ]
    }
   ],
   "source": [
    "from sklearn.linear_model import LogisticRegression\n",
    "LR = LogisticRegression(C=1000.0,random_state=0,max_iter=5,solver='sag')\n",
    "# fit the model - one line of code\n",
    "LR = LR.fit(X_train, y_train)\n",
    "predicted_y_test = LR.predict(X_test_Description_tfidf)\n",
    "print(\"RFC Accuracy (test):\",metrics.accuracy_score(y_test, predicted_y_test))\n",
    "predicted_y_val = LR.predict(X_val)\n",
    "print(\"RFC Accuracy (val):\",metrics.accuracy_score(y_val, predicted_y_val))\n",
    "predicted_y_train = LR.predict(X_train)\n",
    "print(\"RFC Accuracy (train):\",metrics.accuracy_score(y_val, predicted_y_val))"
   ]
  },
  {
   "cell_type": "markdown",
   "id": "d5b14956",
   "metadata": {},
   "source": [
    "#### predicting the probability of an incident of becoming a managed incident for X test data"
   ]
  },
  {
   "cell_type": "code",
   "execution_count": 83,
   "id": "76c61905",
   "metadata": {},
   "outputs": [
    {
     "data": {
      "text/plain": [
       "array([[0.99533025, 0.00466975],\n",
       "       [0.99005007, 0.00994993],\n",
       "       [0.93387654, 0.06612346],\n",
       "       ...,\n",
       "       [0.99481417, 0.00518583],\n",
       "       [0.99505241, 0.00494759],\n",
       "       [0.90586995, 0.09413005]])"
      ]
     },
     "execution_count": 83,
     "metadata": {},
     "output_type": "execute_result"
    }
   ],
   "source": [
    "LR.predict_proba(X_test_Description_tfidf) "
   ]
  }
 ],
 "metadata": {
  "kernelspec": {
   "display_name": "Python 3",
   "language": "python",
   "name": "python3"
  },
  "language_info": {
   "codemirror_mode": {
    "name": "ipython",
    "version": 3
   },
   "file_extension": ".py",
   "mimetype": "text/x-python",
   "name": "python",
   "nbconvert_exporter": "python",
   "pygments_lexer": "ipython3",
   "version": "3.8.8"
  }
 },
 "nbformat": 4,
 "nbformat_minor": 5
}
